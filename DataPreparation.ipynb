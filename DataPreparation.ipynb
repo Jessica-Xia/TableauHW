{
 "cells": [
  {
   "cell_type": "code",
   "execution_count": 1,
   "metadata": {},
   "outputs": [],
   "source": [
    "import os\n",
    "import glob\n",
    "from datetime import datetime\n",
    "import pandas as pd"
   ]
  },
  {
   "cell_type": "code",
   "execution_count": 2,
   "metadata": {},
   "outputs": [],
   "source": [
    "os.chdir(\"Data\")"
   ]
  },
  {
   "cell_type": "code",
   "execution_count": 3,
   "metadata": {},
   "outputs": [],
   "source": [
    "extension = 'csv'\n",
    "all_filenames = [i for i in glob.glob('*.{}'.format(extension))]"
   ]
  },
  {
   "cell_type": "code",
   "execution_count": 4,
   "metadata": {},
   "outputs": [
    {
     "data": {
      "text/plain": [
       "['JC-201701-citibike-tripdata.csv',\n",
       " 'JC-201702-citibike-tripdata.csv',\n",
       " 'JC-201703-citibike-tripdata.csv',\n",
       " 'JC-201704-citibike-tripdata.csv',\n",
       " 'JC-201705-citibike-tripdata.csv',\n",
       " 'JC-201706-citibike-tripdata.csv',\n",
       " 'JC-201707-citibike-tripdata.csv',\n",
       " 'JC-201708 citibike-tripdata.csv',\n",
       " 'JC-201709-citibike-tripdata.csv',\n",
       " 'JC-201710-citibike-tripdata.csv',\n",
       " 'JC-201711-citibike-tripdata.csv',\n",
       " 'JC-201712-citibike-tripdata.csv',\n",
       " 'JC-201801-citibike-tripdata.csv',\n",
       " 'JC-201802-citibike-tripdata.csv',\n",
       " 'JC-201803-citibike-tripdata.csv',\n",
       " 'JC-201804-citibike-tripdata.csv',\n",
       " 'JC-201805-citibike-tripdata.csv',\n",
       " 'JC-201806-citibike-tripdata.csv',\n",
       " 'JC-201807-citibike-tripdata.csv',\n",
       " 'JC-201808-citibike-tripdata.csv',\n",
       " 'JC-201809-citibike-tripdata.csv',\n",
       " 'JC-201810-citibike-tripdata.csv',\n",
       " 'JC-201811-citibike-tripdata.csv',\n",
       " 'JC-201812-citibike-tripdata.csv',\n",
       " 'JC-201901-citibike-tripdata.csv',\n",
       " 'JC-201902-citibike-tripdata.csv',\n",
       " 'JC-201903-citibike-tripdata.csv',\n",
       " 'JC-201904-citibike-tripdata.csv',\n",
       " 'JC-201905-citibike-tripdata.csv',\n",
       " 'JC-201906-citibike-tripdata.csv',\n",
       " 'JC-201907-citibike-tripdata.csv',\n",
       " 'JC-201908-citibike-tripdata.csv',\n",
       " 'JC-201909-citibike-tripdata.csv',\n",
       " 'JC-201910-citibike-tripdata.csv',\n",
       " 'JC-201911-citibike-tripdata.csv',\n",
       " 'JC-201912-citibike-tripdata.csv',\n",
       " 'JC-202001-citibike-tripdata.csv']"
      ]
     },
     "execution_count": 4,
     "metadata": {},
     "output_type": "execute_result"
    }
   ],
   "source": [
    "all_filenames"
   ]
  },
  {
   "cell_type": "code",
   "execution_count": 5,
   "metadata": {},
   "outputs": [],
   "source": [
    "#combine all files in the list\n",
    "combined_csv = pd.concat([pd.read_csv(f) for f in all_filenames])\n",
    "#export to csv\n",
    "combined_csv.to_csv( \"combined_csv.csv\", index=True, encoding='utf-8-sig')"
   ]
  },
  {
   "cell_type": "code",
   "execution_count": 6,
   "metadata": {},
   "outputs": [],
   "source": [
    "df = pd.read_csv(\"combined_csv.csv\")"
   ]
  },
  {
   "cell_type": "code",
   "execution_count": 7,
   "metadata": {},
   "outputs": [
    {
     "data": {
      "text/html": [
       "<div>\n",
       "<style scoped>\n",
       "    .dataframe tbody tr th:only-of-type {\n",
       "        vertical-align: middle;\n",
       "    }\n",
       "\n",
       "    .dataframe tbody tr th {\n",
       "        vertical-align: top;\n",
       "    }\n",
       "\n",
       "    .dataframe thead th {\n",
       "        text-align: right;\n",
       "    }\n",
       "</style>\n",
       "<table border=\"1\" class=\"dataframe\">\n",
       "  <thead>\n",
       "    <tr style=\"text-align: right;\">\n",
       "      <th></th>\n",
       "      <th>Unnamed: 0</th>\n",
       "      <th>tripduration</th>\n",
       "      <th>starttime</th>\n",
       "      <th>stoptime</th>\n",
       "      <th>start station id</th>\n",
       "      <th>start station name</th>\n",
       "      <th>start station latitude</th>\n",
       "      <th>start station longitude</th>\n",
       "      <th>end station id</th>\n",
       "      <th>end station name</th>\n",
       "      <th>end station latitude</th>\n",
       "      <th>end station longitude</th>\n",
       "      <th>bikeid</th>\n",
       "      <th>usertype</th>\n",
       "      <th>birth year</th>\n",
       "      <th>gender</th>\n",
       "    </tr>\n",
       "  </thead>\n",
       "  <tbody>\n",
       "    <tr>\n",
       "      <td>1079782</td>\n",
       "      <td>26015</td>\n",
       "      <td>544</td>\n",
       "      <td>2020-01-31 23:29:29.3910</td>\n",
       "      <td>2020-01-31 23:38:33.6910</td>\n",
       "      <td>3213</td>\n",
       "      <td>Van Vorst Park</td>\n",
       "      <td>40.718489</td>\n",
       "      <td>-74.047727</td>\n",
       "      <td>3194</td>\n",
       "      <td>McGinley Square</td>\n",
       "      <td>40.725340</td>\n",
       "      <td>-74.067622</td>\n",
       "      <td>29659</td>\n",
       "      <td>Subscriber</td>\n",
       "      <td>1989.0</td>\n",
       "      <td>1</td>\n",
       "    </tr>\n",
       "    <tr>\n",
       "      <td>1079783</td>\n",
       "      <td>26016</td>\n",
       "      <td>122</td>\n",
       "      <td>2020-01-31 23:30:59.3670</td>\n",
       "      <td>2020-01-31 23:33:01.6870</td>\n",
       "      <td>3792</td>\n",
       "      <td>Columbus Dr at Exchange Pl</td>\n",
       "      <td>40.716870</td>\n",
       "      <td>-74.032810</td>\n",
       "      <td>3639</td>\n",
       "      <td>Harborside</td>\n",
       "      <td>40.719252</td>\n",
       "      <td>-74.034234</td>\n",
       "      <td>42361</td>\n",
       "      <td>Subscriber</td>\n",
       "      <td>1991.0</td>\n",
       "      <td>1</td>\n",
       "    </tr>\n",
       "    <tr>\n",
       "      <td>1079784</td>\n",
       "      <td>26017</td>\n",
       "      <td>201</td>\n",
       "      <td>2020-01-31 23:42:34.8460</td>\n",
       "      <td>2020-01-31 23:45:55.8780</td>\n",
       "      <td>3273</td>\n",
       "      <td>Manila &amp; 1st</td>\n",
       "      <td>40.721651</td>\n",
       "      <td>-74.042884</td>\n",
       "      <td>3209</td>\n",
       "      <td>Brunswick St</td>\n",
       "      <td>40.724176</td>\n",
       "      <td>-74.050656</td>\n",
       "      <td>42368</td>\n",
       "      <td>Subscriber</td>\n",
       "      <td>1988.0</td>\n",
       "      <td>1</td>\n",
       "    </tr>\n",
       "    <tr>\n",
       "      <td>1079785</td>\n",
       "      <td>26018</td>\n",
       "      <td>300</td>\n",
       "      <td>2020-01-31 23:45:00.6800</td>\n",
       "      <td>2020-01-31 23:50:00.8740</td>\n",
       "      <td>3185</td>\n",
       "      <td>City Hall</td>\n",
       "      <td>40.717732</td>\n",
       "      <td>-74.043845</td>\n",
       "      <td>3267</td>\n",
       "      <td>Morris Canal</td>\n",
       "      <td>40.712419</td>\n",
       "      <td>-74.038526</td>\n",
       "      <td>42257</td>\n",
       "      <td>Subscriber</td>\n",
       "      <td>1981.0</td>\n",
       "      <td>2</td>\n",
       "    </tr>\n",
       "    <tr>\n",
       "      <td>1079786</td>\n",
       "      <td>26019</td>\n",
       "      <td>721</td>\n",
       "      <td>2020-01-31 23:48:35.1700</td>\n",
       "      <td>2020-02-01 00:00:36.4060</td>\n",
       "      <td>3206</td>\n",
       "      <td>Hilltop</td>\n",
       "      <td>40.731169</td>\n",
       "      <td>-74.057574</td>\n",
       "      <td>3202</td>\n",
       "      <td>Newport PATH</td>\n",
       "      <td>40.727224</td>\n",
       "      <td>-74.033759</td>\n",
       "      <td>29302</td>\n",
       "      <td>Customer</td>\n",
       "      <td>1998.0</td>\n",
       "      <td>1</td>\n",
       "    </tr>\n",
       "  </tbody>\n",
       "</table>\n",
       "</div>"
      ],
      "text/plain": [
       "         Unnamed: 0  tripduration                 starttime  \\\n",
       "1079782       26015           544  2020-01-31 23:29:29.3910   \n",
       "1079783       26016           122  2020-01-31 23:30:59.3670   \n",
       "1079784       26017           201  2020-01-31 23:42:34.8460   \n",
       "1079785       26018           300  2020-01-31 23:45:00.6800   \n",
       "1079786       26019           721  2020-01-31 23:48:35.1700   \n",
       "\n",
       "                         stoptime  start station id  \\\n",
       "1079782  2020-01-31 23:38:33.6910              3213   \n",
       "1079783  2020-01-31 23:33:01.6870              3792   \n",
       "1079784  2020-01-31 23:45:55.8780              3273   \n",
       "1079785  2020-01-31 23:50:00.8740              3185   \n",
       "1079786  2020-02-01 00:00:36.4060              3206   \n",
       "\n",
       "                 start station name  start station latitude  \\\n",
       "1079782              Van Vorst Park               40.718489   \n",
       "1079783  Columbus Dr at Exchange Pl               40.716870   \n",
       "1079784                Manila & 1st               40.721651   \n",
       "1079785                   City Hall               40.717732   \n",
       "1079786                     Hilltop               40.731169   \n",
       "\n",
       "         start station longitude  end station id end station name  \\\n",
       "1079782               -74.047727            3194  McGinley Square   \n",
       "1079783               -74.032810            3639       Harborside   \n",
       "1079784               -74.042884            3209     Brunswick St   \n",
       "1079785               -74.043845            3267     Morris Canal   \n",
       "1079786               -74.057574            3202     Newport PATH   \n",
       "\n",
       "         end station latitude  end station longitude  bikeid    usertype  \\\n",
       "1079782             40.725340             -74.067622   29659  Subscriber   \n",
       "1079783             40.719252             -74.034234   42361  Subscriber   \n",
       "1079784             40.724176             -74.050656   42368  Subscriber   \n",
       "1079785             40.712419             -74.038526   42257  Subscriber   \n",
       "1079786             40.727224             -74.033759   29302    Customer   \n",
       "\n",
       "         birth year  gender  \n",
       "1079782      1989.0       1  \n",
       "1079783      1991.0       1  \n",
       "1079784      1988.0       1  \n",
       "1079785      1981.0       2  \n",
       "1079786      1998.0       1  "
      ]
     },
     "execution_count": 7,
     "metadata": {},
     "output_type": "execute_result"
    }
   ],
   "source": [
    "df.tail()"
   ]
  },
  {
   "cell_type": "code",
   "execution_count": null,
   "metadata": {
    "scrolled": true
   },
   "outputs": [],
   "source": [
    "df.describe()"
   ]
  },
  {
   "cell_type": "code",
   "execution_count": 8,
   "metadata": {},
   "outputs": [],
   "source": [
    "df['starttime']=pd.to_datetime(df['starttime']).dt.strftime(\"%m-%d-%Y %H:%M\")"
   ]
  },
  {
   "cell_type": "code",
   "execution_count": 31,
   "metadata": {},
   "outputs": [],
   "source": [
    "new=df['stoptime'].str.split(\" \", n = 1, expand = True)"
   ]
  },
  {
   "cell_type": "code",
   "execution_count": 33,
   "metadata": {},
   "outputs": [],
   "source": [
    "df['stop_date']=new[0]\n",
    "df['stop_time']=new[1]"
   ]
  },
  {
   "cell_type": "code",
   "execution_count": 52,
   "metadata": {},
   "outputs": [],
   "source": [
    "df['stop_time']=df['stop_time'].str.split(\".\", expand= True)[0]"
   ]
  },
  {
   "cell_type": "code",
   "execution_count": 60,
   "metadata": {},
   "outputs": [],
   "source": [
    "df['stoptime']=df['stop_date']+ \" \" + df['stop_time']"
   ]
  },
  {
   "cell_type": "code",
   "execution_count": null,
   "metadata": {},
   "outputs": [],
   "source": [
    "df['stoptime']=pd.to_datetime(df['stoptime']).dt.strftime(\"%m-%d-%Y %H:%M\")"
   ]
  },
  {
   "cell_type": "code",
   "execution_count": 82,
   "metadata": {},
   "outputs": [],
   "source": [
    "df=df.iloc[:,:16]"
   ]
  },
  {
   "cell_type": "code",
   "execution_count": 85,
   "metadata": {},
   "outputs": [],
   "source": [
    "df.to_csv(\"bike201701-202001.csv\",index=False)"
   ]
  }
 ],
 "metadata": {
  "kernelspec": {
   "display_name": "Python 3.7.3 64-bit ('base': conda)",
   "language": "python",
   "name": "python37364bitbaseconda551b752218d742a29a0498f42cf9f36b"
  },
  "language_info": {
   "codemirror_mode": {
    "name": "ipython",
    "version": 3
   },
   "file_extension": ".py",
   "mimetype": "text/x-python",
   "name": "python",
   "nbconvert_exporter": "python",
   "pygments_lexer": "ipython3",
   "version": "3.7.3"
  }
 },
 "nbformat": 4,
 "nbformat_minor": 2
}
